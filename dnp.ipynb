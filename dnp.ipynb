{
 "cells": [
  {
   "cell_type": "code",
   "execution_count": 414,
   "metadata": {
    "collapsed": true
   },
   "outputs": [],
   "source": [
    "import numpy as np\n",
    "import pandas as pd\n",
    "import warnings\n",
    "from tqdm import tqdm\n",
    "import random\n",
    "import math\n",
    "import matplotlib.pyplot as plt\n",
    "import seaborn as sns\n",
    "\n",
    "tqdm.pandas()\n",
    "warnings.filterwarnings(\"ignore\")"
   ]
  },
  {
   "cell_type": "code",
   "execution_count": 415,
   "metadata": {
    "collapsed": false,
    "pycharm": {
     "name": "#%%\n"
    }
   },
   "outputs": [
    {
     "data": {
      "text/html": [
       "<div>\n",
       "<style scoped>\n",
       "    .dataframe tbody tr th:only-of-type {\n",
       "        vertical-align: middle;\n",
       "    }\n",
       "\n",
       "    .dataframe tbody tr th {\n",
       "        vertical-align: top;\n",
       "    }\n",
       "\n",
       "    .dataframe thead th {\n",
       "        text-align: right;\n",
       "    }\n",
       "</style>\n",
       "<table border=\"1\" class=\"dataframe\">\n",
       "  <thead>\n",
       "    <tr style=\"text-align: right;\">\n",
       "      <th></th>\n",
       "      <th>PDOB.dob</th>\n",
       "      <th>PGDR.gender</th>\n",
       "      <th>PCHC.chiefcomplains</th>\n",
       "      <th>DAAA.doyouhaveanyallergies?</th>\n",
       "      <th>DAAD.drugallergies</th>\n",
       "      <th>DAAF.fooditemallergies</th>\n",
       "      <th>DAAS.skinallergies</th>\n",
       "      <th>DAAR.respiratoryallergies</th>\n",
       "      <th>DAAO.anyotherallergies</th>\n",
       "      <th>HLSO.doyoucurrentlysmokeanytobaccoproductsdaily,suchascigarettes,cigarsorpipes?</th>\n",
       "      <th>...</th>\n",
       "      <th>LSTP.trophozoite</th>\n",
       "      <th>LAUB.uibc</th>\n",
       "      <th>LBRU.urea</th>\n",
       "      <th>LBRA.uricacid</th>\n",
       "      <th>LUSF.urinesugarfasting</th>\n",
       "      <th>LUSP.urinesugarpp</th>\n",
       "      <th>LUUB.urobilinogen</th>\n",
       "      <th>LABT.vitaminb12</th>\n",
       "      <th>LBLV.vldlcholesterol</th>\n",
       "      <th>LEEK.whitebloodcell</th>\n",
       "    </tr>\n",
       "  </thead>\n",
       "  <tbody>\n",
       "    <tr>\n",
       "      <th>0</th>\n",
       "      <td>30-Aug-1963</td>\n",
       "      <td>Male</td>\n",
       "      <td>0</td>\n",
       "      <td>True</td>\n",
       "      <td>0</td>\n",
       "      <td>0</td>\n",
       "      <td>Due to summer</td>\n",
       "      <td>0</td>\n",
       "      <td>0</td>\n",
       "      <td>False</td>\n",
       "      <td>...</td>\n",
       "      <td>0</td>\n",
       "      <td>0.0</td>\n",
       "      <td>12.4</td>\n",
       "      <td>5.0</td>\n",
       "      <td>0</td>\n",
       "      <td>0</td>\n",
       "      <td>0</td>\n",
       "      <td>0</td>\n",
       "      <td>15.2</td>\n",
       "      <td>1-2</td>\n",
       "    </tr>\n",
       "    <tr>\n",
       "      <th>1</th>\n",
       "      <td>1-Jan-1975</td>\n",
       "      <td>Female</td>\n",
       "      <td>0</td>\n",
       "      <td>False</td>\n",
       "      <td>0</td>\n",
       "      <td>0</td>\n",
       "      <td>0</td>\n",
       "      <td>0</td>\n",
       "      <td>0</td>\n",
       "      <td>False</td>\n",
       "      <td>...</td>\n",
       "      <td>0</td>\n",
       "      <td>0.0</td>\n",
       "      <td>0</td>\n",
       "      <td>0.0</td>\n",
       "      <td>0</td>\n",
       "      <td>0</td>\n",
       "      <td>0</td>\n",
       "      <td>0</td>\n",
       "      <td>0.0</td>\n",
       "      <td>1-2</td>\n",
       "    </tr>\n",
       "    <tr>\n",
       "      <th>2</th>\n",
       "      <td>8-Feb-1969</td>\n",
       "      <td>Male</td>\n",
       "      <td>0</td>\n",
       "      <td>False</td>\n",
       "      <td>0</td>\n",
       "      <td>0</td>\n",
       "      <td>0</td>\n",
       "      <td>0</td>\n",
       "      <td>0</td>\n",
       "      <td>False</td>\n",
       "      <td>...</td>\n",
       "      <td>0</td>\n",
       "      <td>0.0</td>\n",
       "      <td>17.4</td>\n",
       "      <td>6.1</td>\n",
       "      <td>0</td>\n",
       "      <td>0</td>\n",
       "      <td>0</td>\n",
       "      <td>0</td>\n",
       "      <td>19.2</td>\n",
       "      <td>0-1</td>\n",
       "    </tr>\n",
       "    <tr>\n",
       "      <th>3</th>\n",
       "      <td>7-Aug-1963</td>\n",
       "      <td>Male</td>\n",
       "      <td>Asthma</td>\n",
       "      <td>True</td>\n",
       "      <td>0</td>\n",
       "      <td>0</td>\n",
       "      <td>0</td>\n",
       "      <td>Dust</td>\n",
       "      <td>0</td>\n",
       "      <td>False</td>\n",
       "      <td>...</td>\n",
       "      <td>0</td>\n",
       "      <td>0.0</td>\n",
       "      <td>28.7</td>\n",
       "      <td>5.0</td>\n",
       "      <td>0</td>\n",
       "      <td>0</td>\n",
       "      <td>0</td>\n",
       "      <td>0</td>\n",
       "      <td>16.0</td>\n",
       "      <td>2-4</td>\n",
       "    </tr>\n",
       "    <tr>\n",
       "      <th>4</th>\n",
       "      <td>1-Feb-1974</td>\n",
       "      <td>Male</td>\n",
       "      <td>0</td>\n",
       "      <td>False</td>\n",
       "      <td>0</td>\n",
       "      <td>0</td>\n",
       "      <td>0</td>\n",
       "      <td>0</td>\n",
       "      <td>0</td>\n",
       "      <td>False</td>\n",
       "      <td>...</td>\n",
       "      <td>0</td>\n",
       "      <td>0.0</td>\n",
       "      <td>17.0</td>\n",
       "      <td>7.3</td>\n",
       "      <td>0</td>\n",
       "      <td>0</td>\n",
       "      <td>0</td>\n",
       "      <td>0</td>\n",
       "      <td>56.4</td>\n",
       "      <td>0-1</td>\n",
       "    </tr>\n",
       "    <tr>\n",
       "      <th>...</th>\n",
       "      <td>...</td>\n",
       "      <td>...</td>\n",
       "      <td>...</td>\n",
       "      <td>...</td>\n",
       "      <td>...</td>\n",
       "      <td>...</td>\n",
       "      <td>...</td>\n",
       "      <td>...</td>\n",
       "      <td>...</td>\n",
       "      <td>...</td>\n",
       "      <td>...</td>\n",
       "      <td>...</td>\n",
       "      <td>...</td>\n",
       "      <td>...</td>\n",
       "      <td>...</td>\n",
       "      <td>...</td>\n",
       "      <td>...</td>\n",
       "      <td>...</td>\n",
       "      <td>...</td>\n",
       "      <td>...</td>\n",
       "      <td>...</td>\n",
       "    </tr>\n",
       "    <tr>\n",
       "      <th>2687</th>\n",
       "      <td>7-May-1975</td>\n",
       "      <td>Female</td>\n",
       "      <td>0</td>\n",
       "      <td>False</td>\n",
       "      <td>0</td>\n",
       "      <td>0</td>\n",
       "      <td>0</td>\n",
       "      <td>0</td>\n",
       "      <td>0</td>\n",
       "      <td>False</td>\n",
       "      <td>...</td>\n",
       "      <td>0</td>\n",
       "      <td>0.0</td>\n",
       "      <td>21.0</td>\n",
       "      <td>4.2</td>\n",
       "      <td>0</td>\n",
       "      <td>0</td>\n",
       "      <td>0</td>\n",
       "      <td>0</td>\n",
       "      <td>31.4</td>\n",
       "      <td>2-3</td>\n",
       "    </tr>\n",
       "    <tr>\n",
       "      <th>2688</th>\n",
       "      <td>6-Feb-1962</td>\n",
       "      <td>Male</td>\n",
       "      <td>0</td>\n",
       "      <td>False</td>\n",
       "      <td>0</td>\n",
       "      <td>0</td>\n",
       "      <td>0</td>\n",
       "      <td>0</td>\n",
       "      <td>0</td>\n",
       "      <td>True</td>\n",
       "      <td>...</td>\n",
       "      <td>0</td>\n",
       "      <td>0.0</td>\n",
       "      <td>22.6</td>\n",
       "      <td>6.3</td>\n",
       "      <td>0</td>\n",
       "      <td>0</td>\n",
       "      <td>0</td>\n",
       "      <td>0</td>\n",
       "      <td>14.4</td>\n",
       "      <td>2-4</td>\n",
       "    </tr>\n",
       "    <tr>\n",
       "      <th>2689</th>\n",
       "      <td>31-Oct-1972</td>\n",
       "      <td>Male</td>\n",
       "      <td>0</td>\n",
       "      <td>False</td>\n",
       "      <td>0</td>\n",
       "      <td>0</td>\n",
       "      <td>0</td>\n",
       "      <td>0</td>\n",
       "      <td>0</td>\n",
       "      <td>True</td>\n",
       "      <td>...</td>\n",
       "      <td>0</td>\n",
       "      <td>0.0</td>\n",
       "      <td>31.3</td>\n",
       "      <td>7.6</td>\n",
       "      <td>0</td>\n",
       "      <td>0</td>\n",
       "      <td>0</td>\n",
       "      <td>169</td>\n",
       "      <td>34.4</td>\n",
       "      <td>0-1</td>\n",
       "    </tr>\n",
       "    <tr>\n",
       "      <th>2690</th>\n",
       "      <td>25-Jul-1967</td>\n",
       "      <td>Male</td>\n",
       "      <td>0</td>\n",
       "      <td>False</td>\n",
       "      <td>0</td>\n",
       "      <td>0</td>\n",
       "      <td>0</td>\n",
       "      <td>0</td>\n",
       "      <td>0</td>\n",
       "      <td>False</td>\n",
       "      <td>...</td>\n",
       "      <td>0</td>\n",
       "      <td>0.0</td>\n",
       "      <td>24.1</td>\n",
       "      <td>7.5</td>\n",
       "      <td>0</td>\n",
       "      <td>0</td>\n",
       "      <td>0</td>\n",
       "      <td>0</td>\n",
       "      <td>33.2</td>\n",
       "      <td>1-2</td>\n",
       "    </tr>\n",
       "    <tr>\n",
       "      <th>2691</th>\n",
       "      <td>2-Mar-1964</td>\n",
       "      <td>Male</td>\n",
       "      <td>0</td>\n",
       "      <td>False</td>\n",
       "      <td>0</td>\n",
       "      <td>0</td>\n",
       "      <td>0</td>\n",
       "      <td>0</td>\n",
       "      <td>0</td>\n",
       "      <td>False</td>\n",
       "      <td>...</td>\n",
       "      <td>0</td>\n",
       "      <td>0.0</td>\n",
       "      <td>19.8</td>\n",
       "      <td>6.2</td>\n",
       "      <td>0</td>\n",
       "      <td>0</td>\n",
       "      <td>0</td>\n",
       "      <td>0</td>\n",
       "      <td>24.6</td>\n",
       "      <td>1-2</td>\n",
       "    </tr>\n",
       "  </tbody>\n",
       "</table>\n",
       "<p>2692 rows × 629 columns</p>\n",
       "</div>"
      ],
      "text/plain": [
       "         PDOB.dob PGDR.gender PCHC.chiefcomplains  \\\n",
       "0     30-Aug-1963        Male                   0   \n",
       "1      1-Jan-1975      Female                   0   \n",
       "2      8-Feb-1969        Male                   0   \n",
       "3      7-Aug-1963        Male              Asthma   \n",
       "4      1-Feb-1974        Male                   0   \n",
       "...           ...         ...                 ...   \n",
       "2687   7-May-1975      Female                   0   \n",
       "2688   6-Feb-1962        Male                   0   \n",
       "2689  31-Oct-1972        Male                   0   \n",
       "2690  25-Jul-1967        Male                   0   \n",
       "2691   2-Mar-1964        Male                   0   \n",
       "\n",
       "      DAAA.doyouhaveanyallergies? DAAD.drugallergies DAAF.fooditemallergies  \\\n",
       "0                            True                  0                      0   \n",
       "1                           False                  0                      0   \n",
       "2                           False                  0                      0   \n",
       "3                            True                  0                      0   \n",
       "4                           False                  0                      0   \n",
       "...                           ...                ...                    ...   \n",
       "2687                        False                  0                      0   \n",
       "2688                        False                  0                      0   \n",
       "2689                        False                  0                      0   \n",
       "2690                        False                  0                      0   \n",
       "2691                        False                  0                      0   \n",
       "\n",
       "     DAAS.skinallergies DAAR.respiratoryallergies DAAO.anyotherallergies  \\\n",
       "0         Due to summer                         0                      0   \n",
       "1                     0                         0                      0   \n",
       "2                     0                         0                      0   \n",
       "3                     0                      Dust                      0   \n",
       "4                     0                         0                      0   \n",
       "...                 ...                       ...                    ...   \n",
       "2687                  0                         0                      0   \n",
       "2688                  0                         0                      0   \n",
       "2689                  0                         0                      0   \n",
       "2690                  0                         0                      0   \n",
       "2691                  0                         0                      0   \n",
       "\n",
       "      HLSO.doyoucurrentlysmokeanytobaccoproductsdaily,suchascigarettes,cigarsorpipes?  \\\n",
       "0                                                 False                                 \n",
       "1                                                 False                                 \n",
       "2                                                 False                                 \n",
       "3                                                 False                                 \n",
       "4                                                 False                                 \n",
       "...                                                 ...                                 \n",
       "2687                                              False                                 \n",
       "2688                                               True                                 \n",
       "2689                                               True                                 \n",
       "2690                                              False                                 \n",
       "2691                                              False                                 \n",
       "\n",
       "      ... LSTP.trophozoite LAUB.uibc  LBRU.urea  LBRA.uricacid  \\\n",
       "0     ...                0       0.0       12.4            5.0   \n",
       "1     ...                0       0.0          0            0.0   \n",
       "2     ...                0       0.0       17.4            6.1   \n",
       "3     ...                0       0.0       28.7            5.0   \n",
       "4     ...                0       0.0       17.0            7.3   \n",
       "...   ...              ...       ...        ...            ...   \n",
       "2687  ...                0       0.0       21.0            4.2   \n",
       "2688  ...                0       0.0       22.6            6.3   \n",
       "2689  ...                0       0.0       31.3            7.6   \n",
       "2690  ...                0       0.0       24.1            7.5   \n",
       "2691  ...                0       0.0       19.8            6.2   \n",
       "\n",
       "      LUSF.urinesugarfasting  LUSP.urinesugarpp  LUUB.urobilinogen  \\\n",
       "0                          0                  0                  0   \n",
       "1                          0                  0                  0   \n",
       "2                          0                  0                  0   \n",
       "3                          0                  0                  0   \n",
       "4                          0                  0                  0   \n",
       "...                      ...                ...                ...   \n",
       "2687                       0                  0                  0   \n",
       "2688                       0                  0                  0   \n",
       "2689                       0                  0                  0   \n",
       "2690                       0                  0                  0   \n",
       "2691                       0                  0                  0   \n",
       "\n",
       "     LABT.vitaminb12  LBLV.vldlcholesterol  LEEK.whitebloodcell  \n",
       "0                  0                  15.2                  1-2  \n",
       "1                  0                   0.0                  1-2  \n",
       "2                  0                  19.2                  0-1  \n",
       "3                  0                  16.0                  2-4  \n",
       "4                  0                  56.4                  0-1  \n",
       "...              ...                   ...                  ...  \n",
       "2687               0                  31.4                  2-3  \n",
       "2688               0                  14.4                  2-4  \n",
       "2689             169                  34.4                  0-1  \n",
       "2690               0                  33.2                  1-2  \n",
       "2691               0                  24.6                  1-2  \n",
       "\n",
       "[2692 rows x 629 columns]"
      ]
     },
     "execution_count": 415,
     "metadata": {},
     "output_type": "execute_result"
    }
   ],
   "source": [
    "df = pd.read_csv(\"./max_data/max_dataset.csv\")\n",
    "df = df.fillna(\"Nil\")\n",
    "df.replace(\"0\", \"Nil\", inplace=True)\n",
    "df.replace(\"Nil\", 0, inplace=True)\n",
    "df.replace(\"Negative\", 0, inplace=True)\n",
    "df.replace(\"Normal\", 0, inplace=True)\n",
    "df.replace(\"Absent\", 0, inplace=True)\n",
    "df.replace(\"Yes\", True, inplace=True)\n",
    "df.replace(\"No\", False, inplace=True)\n",
    "df.replace(\"yes\", True, inplace=True)\n",
    "df.replace(\"no\", False, inplace=True)\n",
    "df.replace(\"True\", True, inplace=True)\n",
    "df.replace(\"False\", False, inplace=True)\n",
    "df = df.select_dtypes(include=[int, float, bool, object])\n",
    "df = df.drop(columns=[df.columns[0], df.columns[1]])\n",
    "df"
   ]
  },
  {
   "cell_type": "code",
   "execution_count": 416,
   "metadata": {},
   "outputs": [
    {
     "name": "stdout",
     "output_type": "stream",
     "text": [
      "Value counts of types:\n",
      "object     352\n",
      "int64      110\n",
      "bool        93\n",
      "float64     74\n",
      "Name: count, dtype: int64\n"
     ]
    }
   ],
   "source": [
    "# print the type of each column in the df\n",
    "types = [df[col].dtype for col in df.columns]\n",
    "\n",
    "# print value counts of types\n",
    "print(\"Value counts of types:\")\n",
    "print(pd.Series(types).value_counts())"
   ]
  },
  {
   "cell_type": "code",
   "execution_count": 417,
   "metadata": {
    "collapsed": false,
    "pycharm": {
     "name": "#%%\n"
    }
   },
   "outputs": [],
   "source": [
    "def support_count(df, r):\n",
    "    return ((df.iloc[r] != 0) & (df.iloc[r] != 0.0) & (df.iloc[r] != False)).sum()"
   ]
  },
  {
   "cell_type": "code",
   "execution_count": 418,
   "metadata": {},
   "outputs": [],
   "source": [
    "def support_columns(df, r):\n",
    "    return df[df.loc[r, df.loc[r].apply(lambda x: x != 0 and x != 0.0 and x != False)].index].columns"
   ]
  },
  {
   "cell_type": "code",
   "execution_count": 419,
   "metadata": {
    "collapsed": false,
    "pycharm": {
     "name": "#%%\n"
    }
   },
   "outputs": [],
   "source": [
    "def support(df, r):\n",
    "    return df[df.loc[r, df.loc[r].apply(lambda x: x != 0 and x != 0.0 and x != False)].index]"
   ]
  },
  {
   "cell_type": "code",
   "execution_count": 420,
   "metadata": {},
   "outputs": [],
   "source": [
    "def support_values(df, r):\n",
    "    return df[df.loc[r, df.loc[r].apply(lambda x: x != 0 and x != 0.0 and x != False)].index].iloc[r]"
   ]
  },
  {
   "cell_type": "code",
   "execution_count": 421,
   "metadata": {},
   "outputs": [],
   "source": [
    "def support_count_c(df, c):\n",
    "    return ((df.loc[:, c] != 0) & (df.loc[:, c] != 0.0) & (df.loc[:, c] != False)).sum()"
   ]
  },
  {
   "cell_type": "code",
   "execution_count": 422,
   "metadata": {
    "collapsed": false,
    "pycharm": {
     "name": "#%%\n"
    }
   },
   "outputs": [],
   "source": [
    "def union_support_count(df, r1, r2):\n",
    "    \n",
    "    columns1 = support_columns(df, r1)\n",
    "    columns2 = support_columns(df, r2)\n",
    "    \n",
    "    return len(list(set(columns1) | set(columns2)))"
   ]
  },
  {
   "cell_type": "code",
   "execution_count": 423,
   "metadata": {
    "collapsed": false,
    "pycharm": {
     "name": "#%%\n"
    }
   },
   "outputs": [],
   "source": [
    "def union_support_columns(df, r1, r2):\n",
    "    \n",
    "    columns1 = support_columns(df, r1)\n",
    "    columns2 = support_columns(df, r2)\n",
    "    \n",
    "    return list(set(columns1) | set(columns2))"
   ]
  },
  {
   "cell_type": "code",
   "execution_count": 424,
   "metadata": {
    "collapsed": false,
    "pycharm": {
     "name": "#%%\n"
    }
   },
   "outputs": [],
   "source": [
    "# Sim(ri1, ri2) as defined by the paper\n",
    "def similar(ri1, ri2):\n",
    "    if type(ri1) != type(ri2):\n",
    "        return 0\n",
    "    elif (type(ri1) is np.int64 and type(ri2) is np.int64) or (type(ri1) is int and type(ri2) is int):\n",
    "        return 1 if ri1 == ri2 else 0\n",
    "    elif (type(ri1) is np.float64 and type(ri2) is np.float64) or (type(ri1) is float and type(ri2) is float):\n",
    "        return 1 if math.isclose(ri1, ri2, rel_tol=1e-9) else 0\n",
    "    elif (type(ri1) is bool and type(ri2) is bool) or (type(ri1) is np.bool_ and type(ri2) is np.bool_):\n",
    "        return 1 if ri1 == ri2 else 0\n",
    "    elif type(ri1) is str and type(ri2) is str:\n",
    "        return 1 if ri1 == ri2 else 0\n",
    "    else:\n",
    "        print(f\"Uncaught, {type(ri1)}, {type(ri2)}\")\n",
    "        return 0"
   ]
  },
  {
   "cell_type": "code",
   "execution_count": 425,
   "metadata": {
    "collapsed": false,
    "pycharm": {
     "name": "#%%\n"
    }
   },
   "outputs": [],
   "source": [
    "# Sim(r1, r2) as defined by the paper\n",
    "def compute_similarity(df, r1, r2):\n",
    "    \n",
    "    similarity = 0\n",
    "    for column in union_support_columns(df, r1, r2):\n",
    "        similarity += similar(df.loc[r1, column], df.loc[r2, column])\n",
    "    \n",
    "    sim_score = similarity/union_support_count(df, r1, r2) if union_support_count(df, r1, r2) != 0 else 0\n",
    "    return sim_score"
   ]
  },
  {
   "cell_type": "code",
   "execution_count": 426,
   "metadata": {},
   "outputs": [],
   "source": [
    "# For the adversary's information, Aux(r). This randomly selects the columns that they know about\n",
    "# We can consider a different method as well, based on some information measure, for eg some entropy measure or the number of rows that each column has a valid value for\n",
    "def auxillary_columns(df, r, count):\n",
    "    \n",
    "    aux = random.sample(list(support_columns(df, r)), min(count, support_count(df, r)))\n",
    "    return aux"
   ]
  },
  {
   "cell_type": "code",
   "execution_count": 427,
   "metadata": {},
   "outputs": [],
   "source": [
    "# Aux(r) as defined by the paper\n",
    "def auxillary(df, r, count):\n",
    "    \n",
    "    aux = df.loc[r, auxillary_columns(df, r, count)]\n",
    "    return aux"
   ]
  },
  {
   "cell_type": "code",
   "execution_count": 428,
   "metadata": {},
   "outputs": [],
   "source": [
    "# Score(aux, r') as defined by the paper\n",
    "def score(df, aux, r0):\n",
    "    \n",
    "    score = 0\n",
    "    for column in aux.index:\n",
    "        if column in support_columns(df, r0):\n",
    "            score += similar(aux.loc[column], df.loc[r0, column])\n",
    "    \n",
    "    return score/len(aux.index) if len(aux.index) != 0 else 0"
   ]
  },
  {
   "cell_type": "code",
   "execution_count": 429,
   "metadata": {},
   "outputs": [],
   "source": [
    "# Robust Score(aux, r') as defined by the paper\n",
    "def score_robust(df, aux, r0):\n",
    "    \n",
    "    score = 0\n",
    "    for column in aux.index:\n",
    "        if column in support_columns(df, r0):\n",
    "            score += (similar(aux.loc[column], df.loc[r0, column])/math.log(support_count_c(df, column)))\n",
    "    \n",
    "    return score/len(aux.index) if len(aux.index) != 0 else 0"
   ]
  },
  {
   "cell_type": "code",
   "execution_count": 430,
   "metadata": {},
   "outputs": [],
   "source": [
    "# Best guess as defined by the paper\n",
    "def best_guess(candidates, eccentricity):\n",
    "    sorted_candidates = candidates.sort_values(ascending=False)\n",
    "    heuristic = (sorted_candidates.index[0] - sorted_candidates.index[1])/candidates.std()\n",
    "    return sorted_candidates.index[0] if heuristic >= eccentricity else None"
   ]
  },
  {
   "cell_type": "code",
   "execution_count": 431,
   "metadata": {
    "collapsed": false,
    "pycharm": {
     "name": "#%%\n"
    }
   },
   "outputs": [],
   "source": [
    "# Matching criterion as defined by the paper\n",
    "def match(df, aux, alpha):\n",
    "    \n",
    "    candidates = pd.Series(df.index).apply(lambda row: score(df, aux, row))\n",
    "    candidates = candidates[candidates >= alpha]\n",
    "    if candidates.empty:\n",
    "        return pd.Series({\"-1\": 0})\n",
    "    return candidates"
   ]
  },
  {
   "cell_type": "code",
   "execution_count": 432,
   "metadata": {},
   "outputs": [],
   "source": [
    "# Robust matching criterion as defined by the paper\n",
    "def match_robust(df, aux, alpha):\n",
    "    \n",
    "    candidates = pd.Series(df.index).apply(lambda row: score(df, aux, row))\n",
    "    candidates = candidates[candidates >= alpha]\n",
    "    if candidates.empty:\n",
    "        return pd.Series({\"-1\": 0})\n",
    "    elif candidates.shape[0] > 1:\n",
    "        return best_guess(candidates, 1.5)\n",
    "    return candidates"
   ]
  },
  {
   "cell_type": "code",
   "execution_count": 433,
   "metadata": {},
   "outputs": [],
   "source": [
    "# Scoreboard() as defined by the paper\n",
    "def scoreboard(df, count):\n",
    "    \n",
    "    scores = pd.DataFrame(index=df.index, columns=df.index)\n",
    "    for r1 in tqdm(list(df.index)[:200]):\n",
    "        aux = auxillary(df, r1, count)\n",
    "        for r2 in list(df.index)[:200]:\n",
    "            scores.loc[r1, r2] = score(df, aux, r2)\n",
    "            \n",
    "    return scores"
   ]
  },
  {
   "cell_type": "code",
   "execution_count": 434,
   "metadata": {
    "collapsed": false,
    "pycharm": {
     "name": "#%%\n"
    }
   },
   "outputs": [],
   "source": [
    "# Scoreboard-RH from paper\n",
    "def compute_score(df, r1):\n",
    "    supported = df.loc[r1, support_cols(r1)]\n",
    "    print(supported)\n",
    "    aux = [supported.index[i] for i in [random.randint(0, len(supported)) for _ in range(4)]]\n",
    "    print(aux)\n",
    "    weight = 1/(math.log(support(r1)))\n",
    "    print(weight)\n",
    "\n",
    "    df[\"scores\"] = df.apply(lambda row2: (sum(similar(supported, r1, row2, column))) for column in df.loc[:, aux].columns)\n",
    "    print(df[\"scores\"].head())\n",
    "    df[\"scores\"] = weight * df[\"scores\"]\n",
    "    print(df[\"scores\"].head())\n",
    "    score = df[\"scores\"].max()\n",
    "    print(score)\n",
    "    score2 = df[\"scores\"].nlargest(2)\n",
    "\n",
    "    return score, score2, df[\"scores\"].std()"
   ]
  },
  {
   "cell_type": "code",
   "execution_count": 435,
   "metadata": {
    "collapsed": false,
    "pycharm": {
     "name": "#%%\n"
    }
   },
   "outputs": [
    {
     "data": {
      "image/png": "[encoded data removed]",
      "text/plain": [
       "<Figure size 640x480 with 1 Axes>"
      ]
     },
     "metadata": {},
     "output_type": "display_data"
    }
   ],
   "source": [
    "support_counts = pd.Series(df.index).apply(lambda x: support_count(df, x))\n",
    "support_counts.plot(kind=\"hist\", bins=50, color=\"steelblue\", title=\"Long-tailed distribution of supp(r) from 0 to 200\", xlim=(0, 201), xlabel=\"Support count\", ylabel=\"Frequency\")\n",
    "plt.show()"
   ]
  },
  {
   "cell_type": "code",
   "execution_count": 436,
   "metadata": {},
   "outputs": [
    {
     "data": {
      "image/png": "[encoded data removed]",
      "text/plain": [
       "<Figure size 640x480 with 1 Axes>"
      ]
     },
     "metadata": {},
     "output_type": "display_data"
    }
   ],
   "source": [
    "support_counts.plot(kind=\"hist\", bins=50, color=\"steelblue\", title=\"Long-tailed distribution of supp(r)\", xlim=(0, len(df.columns)), xlabel=\"Support count\", ylabel=\"Frequency\")\n",
    "plt.show()"
   ]
  },
  {
   "cell_type": "code",
   "execution_count": 437,
   "metadata": {},
   "outputs": [
    {
     "data": {
      "image/png": "[encoded data removed]",
      "text/plain": [
       "<Figure size 640x480 with 1 Axes>"
      ]
     },
     "metadata": {},
     "output_type": "display_data"
    }
   ],
   "source": [
    "support_counts = pd.Series(df.columns).apply(lambda x: support_count_c(df, x))\n",
    "support_counts.plot(kind=\"hist\", bins=50, color=\"steelblue\", title=\"Long-tailed distribution of supp(c)\", xlim=(0, len(df)), xlabel=\"Support count\", ylabel=\"Frequency\")\n",
    "plt.show()"
   ]
  },
  {
   "cell_type": "code",
   "execution_count": 438,
   "metadata": {},
   "outputs": [
    {
     "data": {
      "text/html": [
       "<div>\n",
       "<style scoped>\n",
       "    .dataframe tbody tr th:only-of-type {\n",
       "        vertical-align: middle;\n",
       "    }\n",
       "\n",
       "    .dataframe tbody tr th {\n",
       "        vertical-align: top;\n",
       "    }\n",
       "\n",
       "    .dataframe thead th {\n",
       "        text-align: right;\n",
       "    }\n",
       "</style>\n",
       "<table border=\"1\" class=\"dataframe\">\n",
       "  <thead>\n",
       "    <tr style=\"text-align: right;\">\n",
       "      <th></th>\n",
       "      <th>PDOB.dob</th>\n",
       "      <th>PGDR.gender</th>\n",
       "      <th>PCHC.chiefcomplains</th>\n",
       "      <th>DAAA.doyouhaveanyallergies?</th>\n",
       "      <th>DAAD.drugallergies</th>\n",
       "      <th>DAAF.fooditemallergies</th>\n",
       "      <th>DAAS.skinallergies</th>\n",
       "      <th>DAAR.respiratoryallergies</th>\n",
       "      <th>DAAO.anyotherallergies</th>\n",
       "      <th>HLSO.doyoucurrentlysmokeanytobaccoproductsdaily,suchascigarettes,cigarsorpipes?</th>\n",
       "      <th>...</th>\n",
       "      <th>LSTP.trophozoite</th>\n",
       "      <th>LAUB.uibc</th>\n",
       "      <th>LBRU.urea</th>\n",
       "      <th>LBRA.uricacid</th>\n",
       "      <th>LUSF.urinesugarfasting</th>\n",
       "      <th>LUSP.urinesugarpp</th>\n",
       "      <th>LUUB.urobilinogen</th>\n",
       "      <th>LABT.vitaminb12</th>\n",
       "      <th>LBLV.vldlcholesterol</th>\n",
       "      <th>LEEK.whitebloodcell</th>\n",
       "    </tr>\n",
       "  </thead>\n",
       "  <tbody>\n",
       "    <tr>\n",
       "      <th>0</th>\n",
       "      <td>30-Aug-1963</td>\n",
       "      <td>Male</td>\n",
       "      <td>0</td>\n",
       "      <td>True</td>\n",
       "      <td>0</td>\n",
       "      <td>0</td>\n",
       "      <td>Due to summer</td>\n",
       "      <td>0</td>\n",
       "      <td>0</td>\n",
       "      <td>False</td>\n",
       "      <td>...</td>\n",
       "      <td>0</td>\n",
       "      <td>0.0</td>\n",
       "      <td>12.4</td>\n",
       "      <td>5.0</td>\n",
       "      <td>0</td>\n",
       "      <td>0</td>\n",
       "      <td>0</td>\n",
       "      <td>0</td>\n",
       "      <td>15.2</td>\n",
       "      <td>1-2</td>\n",
       "    </tr>\n",
       "    <tr>\n",
       "      <th>1</th>\n",
       "      <td>1-Jan-1975</td>\n",
       "      <td>Female</td>\n",
       "      <td>0</td>\n",
       "      <td>False</td>\n",
       "      <td>0</td>\n",
       "      <td>0</td>\n",
       "      <td>0</td>\n",
       "      <td>0</td>\n",
       "      <td>0</td>\n",
       "      <td>False</td>\n",
       "      <td>...</td>\n",
       "      <td>0</td>\n",
       "      <td>0.0</td>\n",
       "      <td>0</td>\n",
       "      <td>0.0</td>\n",
       "      <td>0</td>\n",
       "      <td>0</td>\n",
       "      <td>0</td>\n",
       "      <td>0</td>\n",
       "      <td>0.0</td>\n",
       "      <td>1-2</td>\n",
       "    </tr>\n",
       "    <tr>\n",
       "      <th>2</th>\n",
       "      <td>8-Feb-1969</td>\n",
       "      <td>Male</td>\n",
       "      <td>0</td>\n",
       "      <td>False</td>\n",
       "      <td>0</td>\n",
       "      <td>0</td>\n",
       "      <td>0</td>\n",
       "      <td>0</td>\n",
       "      <td>0</td>\n",
       "      <td>False</td>\n",
       "      <td>...</td>\n",
       "      <td>0</td>\n",
       "      <td>0.0</td>\n",
       "      <td>17.4</td>\n",
       "      <td>6.1</td>\n",
       "      <td>0</td>\n",
       "      <td>0</td>\n",
       "      <td>0</td>\n",
       "      <td>0</td>\n",
       "      <td>19.2</td>\n",
       "      <td>0-1</td>\n",
       "    </tr>\n",
       "    <tr>\n",
       "      <th>3</th>\n",
       "      <td>7-Aug-1963</td>\n",
       "      <td>Male</td>\n",
       "      <td>Asthma</td>\n",
       "      <td>True</td>\n",
       "      <td>0</td>\n",
       "      <td>0</td>\n",
       "      <td>0</td>\n",
       "      <td>Dust</td>\n",
       "      <td>0</td>\n",
       "      <td>False</td>\n",
       "      <td>...</td>\n",
       "      <td>0</td>\n",
       "      <td>0.0</td>\n",
       "      <td>28.7</td>\n",
       "      <td>5.0</td>\n",
       "      <td>0</td>\n",
       "      <td>0</td>\n",
       "      <td>0</td>\n",
       "      <td>0</td>\n",
       "      <td>16.0</td>\n",
       "      <td>2-4</td>\n",
       "    </tr>\n",
       "    <tr>\n",
       "      <th>4</th>\n",
       "      <td>1-Feb-1974</td>\n",
       "      <td>Male</td>\n",
       "      <td>0</td>\n",
       "      <td>False</td>\n",
       "      <td>0</td>\n",
       "      <td>0</td>\n",
       "      <td>0</td>\n",
       "      <td>0</td>\n",
       "      <td>0</td>\n",
       "      <td>False</td>\n",
       "      <td>...</td>\n",
       "      <td>0</td>\n",
       "      <td>0.0</td>\n",
       "      <td>17.0</td>\n",
       "      <td>7.3</td>\n",
       "      <td>0</td>\n",
       "      <td>0</td>\n",
       "      <td>0</td>\n",
       "      <td>0</td>\n",
       "      <td>56.4</td>\n",
       "      <td>0-1</td>\n",
       "    </tr>\n",
       "    <tr>\n",
       "      <th>...</th>\n",
       "      <td>...</td>\n",
       "      <td>...</td>\n",
       "      <td>...</td>\n",
       "      <td>...</td>\n",
       "      <td>...</td>\n",
       "      <td>...</td>\n",
       "      <td>...</td>\n",
       "      <td>...</td>\n",
       "      <td>...</td>\n",
       "      <td>...</td>\n",
       "      <td>...</td>\n",
       "      <td>...</td>\n",
       "      <td>...</td>\n",
       "      <td>...</td>\n",
       "      <td>...</td>\n",
       "      <td>...</td>\n",
       "      <td>...</td>\n",
       "      <td>...</td>\n",
       "      <td>...</td>\n",
       "      <td>...</td>\n",
       "      <td>...</td>\n",
       "    </tr>\n",
       "    <tr>\n",
       "      <th>2687</th>\n",
       "      <td>7-May-1975</td>\n",
       "      <td>Female</td>\n",
       "      <td>0</td>\n",
       "      <td>False</td>\n",
       "      <td>0</td>\n",
       "      <td>0</td>\n",
       "      <td>0</td>\n",
       "      <td>0</td>\n",
       "      <td>0</td>\n",
       "      <td>False</td>\n",
       "      <td>...</td>\n",
       "      <td>0</td>\n",
       "      <td>0.0</td>\n",
       "      <td>21.0</td>\n",
       "      <td>4.2</td>\n",
       "      <td>0</td>\n",
       "      <td>0</td>\n",
       "      <td>0</td>\n",
       "      <td>0</td>\n",
       "      <td>31.4</td>\n",
       "      <td>2-3</td>\n",
       "    </tr>\n",
       "    <tr>\n",
       "      <th>2688</th>\n",
       "      <td>6-Feb-1962</td>\n",
       "      <td>Male</td>\n",
       "      <td>0</td>\n",
       "      <td>False</td>\n",
       "      <td>0</td>\n",
       "      <td>0</td>\n",
       "      <td>0</td>\n",
       "      <td>0</td>\n",
       "      <td>0</td>\n",
       "      <td>True</td>\n",
       "      <td>...</td>\n",
       "      <td>0</td>\n",
       "      <td>0.0</td>\n",
       "      <td>22.6</td>\n",
       "      <td>6.3</td>\n",
       "      <td>0</td>\n",
       "      <td>0</td>\n",
       "      <td>0</td>\n",
       "      <td>0</td>\n",
       "      <td>14.4</td>\n",
       "      <td>2-4</td>\n",
       "    </tr>\n",
       "    <tr>\n",
       "      <th>2689</th>\n",
       "      <td>31-Oct-1972</td>\n",
       "      <td>Male</td>\n",
       "      <td>0</td>\n",
       "      <td>False</td>\n",
       "      <td>0</td>\n",
       "      <td>0</td>\n",
       "      <td>0</td>\n",
       "      <td>0</td>\n",
       "      <td>0</td>\n",
       "      <td>True</td>\n",
       "      <td>...</td>\n",
       "      <td>0</td>\n",
       "      <td>0.0</td>\n",
       "      <td>31.3</td>\n",
       "      <td>7.6</td>\n",
       "      <td>0</td>\n",
       "      <td>0</td>\n",
       "      <td>0</td>\n",
       "      <td>169</td>\n",
       "      <td>34.4</td>\n",
       "      <td>0-1</td>\n",
       "    </tr>\n",
       "    <tr>\n",
       "      <th>2690</th>\n",
       "      <td>25-Jul-1967</td>\n",
       "      <td>Male</td>\n",
       "      <td>0</td>\n",
       "      <td>False</td>\n",
       "      <td>0</td>\n",
       "      <td>0</td>\n",
       "      <td>0</td>\n",
       "      <td>0</td>\n",
       "      <td>0</td>\n",
       "      <td>False</td>\n",
       "      <td>...</td>\n",
       "      <td>0</td>\n",
       "      <td>0.0</td>\n",
       "      <td>24.1</td>\n",
       "      <td>7.5</td>\n",
       "      <td>0</td>\n",
       "      <td>0</td>\n",
       "      <td>0</td>\n",
       "      <td>0</td>\n",
       "      <td>33.2</td>\n",
       "      <td>1-2</td>\n",
       "    </tr>\n",
       "    <tr>\n",
       "      <th>2691</th>\n",
       "      <td>2-Mar-1964</td>\n",
       "      <td>Male</td>\n",
       "      <td>0</td>\n",
       "      <td>False</td>\n",
       "      <td>0</td>\n",
       "      <td>0</td>\n",
       "      <td>0</td>\n",
       "      <td>0</td>\n",
       "      <td>0</td>\n",
       "      <td>False</td>\n",
       "      <td>...</td>\n",
       "      <td>0</td>\n",
       "      <td>0.0</td>\n",
       "      <td>19.8</td>\n",
       "      <td>6.2</td>\n",
       "      <td>0</td>\n",
       "      <td>0</td>\n",
       "      <td>0</td>\n",
       "      <td>0</td>\n",
       "      <td>24.6</td>\n",
       "      <td>1-2</td>\n",
       "    </tr>\n",
       "  </tbody>\n",
       "</table>\n",
       "<p>2692 rows × 629 columns</p>\n",
       "</div>"
      ],
      "text/plain": [
       "         PDOB.dob PGDR.gender PCHC.chiefcomplains  \\\n",
       "0     30-Aug-1963        Male                   0   \n",
       "1      1-Jan-1975      Female                   0   \n",
       "2      8-Feb-1969        Male                   0   \n",
       "3      7-Aug-1963        Male              Asthma   \n",
       "4      1-Feb-1974        Male                   0   \n",
       "...           ...         ...                 ...   \n",
       "2687   7-May-1975      Female                   0   \n",
       "2688   6-Feb-1962        Male                   0   \n",
       "2689  31-Oct-1972        Male                   0   \n",
       "2690  25-Jul-1967        Male                   0   \n",
       "2691   2-Mar-1964        Male                   0   \n",
       "\n",
       "      DAAA.doyouhaveanyallergies? DAAD.drugallergies DAAF.fooditemallergies  \\\n",
       "0                            True                  0                      0   \n",
       "1                           False                  0                      0   \n",
       "2                           False                  0                      0   \n",
       "3                            True                  0                      0   \n",
       "4                           False                  0                      0   \n",
       "...                           ...                ...                    ...   \n",
       "2687                        False                  0                      0   \n",
       "2688                        False                  0                      0   \n",
       "2689                        False                  0                      0   \n",
       "2690                        False                  0                      0   \n",
       "2691                        False                  0                      0   \n",
       "\n",
       "     DAAS.skinallergies DAAR.respiratoryallergies DAAO.anyotherallergies  \\\n",
       "0         Due to summer                         0                      0   \n",
       "1                     0                         0                      0   \n",
       "2                     0                         0                      0   \n",
       "3                     0                      Dust                      0   \n",
       "4                     0                         0                      0   \n",
       "...                 ...                       ...                    ...   \n",
       "2687                  0                         0                      0   \n",
       "2688                  0                         0                      0   \n",
       "2689                  0                         0                      0   \n",
       "2690                  0                         0                      0   \n",
       "2691                  0                         0                      0   \n",
       "\n",
       "      HLSO.doyoucurrentlysmokeanytobaccoproductsdaily,suchascigarettes,cigarsorpipes?  \\\n",
       "0                                                 False                                 \n",
       "1                                                 False                                 \n",
       "2                                                 False                                 \n",
       "3                                                 False                                 \n",
       "4                                                 False                                 \n",
       "...                                                 ...                                 \n",
       "2687                                              False                                 \n",
       "2688                                               True                                 \n",
       "2689                                               True                                 \n",
       "2690                                              False                                 \n",
       "2691                                              False                                 \n",
       "\n",
       "      ... LSTP.trophozoite LAUB.uibc  LBRU.urea  LBRA.uricacid  \\\n",
       "0     ...                0       0.0       12.4            5.0   \n",
       "1     ...                0       0.0          0            0.0   \n",
       "2     ...                0       0.0       17.4            6.1   \n",
       "3     ...                0       0.0       28.7            5.0   \n",
       "4     ...                0       0.0       17.0            7.3   \n",
       "...   ...              ...       ...        ...            ...   \n",
       "2687  ...                0       0.0       21.0            4.2   \n",
       "2688  ...                0       0.0       22.6            6.3   \n",
       "2689  ...                0       0.0       31.3            7.6   \n",
       "2690  ...                0       0.0       24.1            7.5   \n",
       "2691  ...                0       0.0       19.8            6.2   \n",
       "\n",
       "      LUSF.urinesugarfasting  LUSP.urinesugarpp  LUUB.urobilinogen  \\\n",
       "0                          0                  0                  0   \n",
       "1                          0                  0                  0   \n",
       "2                          0                  0                  0   \n",
       "3                          0                  0                  0   \n",
       "4                          0                  0                  0   \n",
       "...                      ...                ...                ...   \n",
       "2687                       0                  0                  0   \n",
       "2688                       0                  0                  0   \n",
       "2689                       0                  0                  0   \n",
       "2690                       0                  0                  0   \n",
       "2691                       0                  0                  0   \n",
       "\n",
       "     LABT.vitaminb12  LBLV.vldlcholesterol  LEEK.whitebloodcell  \n",
       "0                  0                  15.2                  1-2  \n",
       "1                  0                   0.0                  1-2  \n",
       "2                  0                  19.2                  0-1  \n",
       "3                  0                  16.0                  2-4  \n",
       "4                  0                  56.4                  0-1  \n",
       "...              ...                   ...                  ...  \n",
       "2687               0                  31.4                  2-3  \n",
       "2688               0                  14.4                  2-4  \n",
       "2689             169                  34.4                  0-1  \n",
       "2690               0                  33.2                  1-2  \n",
       "2691               0                  24.6                  1-2  \n",
       "\n",
       "[2692 rows x 629 columns]"
      ]
     },
     "execution_count": 438,
     "metadata": {},
     "output_type": "execute_result"
    }
   ],
   "source": [
    "df3 = df[[col for col in df.columns]]\n",
    "df3"
   ]
  },
  {
   "cell_type": "code",
   "execution_count": 439,
   "metadata": {},
   "outputs": [
    {
     "data": {
      "text/plain": [
       "1"
      ]
     },
     "execution_count": 439,
     "metadata": {},
     "output_type": "execute_result"
    }
   ],
   "source": [
    "similar(df3.iloc[0, 1], df3.iloc[3, 1])"
   ]
  },
  {
   "cell_type": "code",
   "execution_count": 440,
   "metadata": {},
   "outputs": [
    {
     "data": {
      "text/plain": [
       "0.23076923076923078"
      ]
     },
     "execution_count": 440,
     "metadata": {},
     "output_type": "execute_result"
    }
   ],
   "source": [
    "compute_similarity(df3, 0, 3)"
   ]
  },
  {
   "cell_type": "code",
   "execution_count": null,
   "metadata": {},
   "outputs": [
    {
     "name": "stderr",
     "output_type": "stream",
     "text": [
      "  1%|          | 30/2692 [35:14<48:10:29, 65.15s/it]"
     ]
    }
   ],
   "source": [
    "nn = pd.Series(df3.index).progress_apply(lambda x: max([compute_similarity(df3, x, i) for i in df3.index if i != x]))"
   ]
  },
  {
   "cell_type": "code",
   "execution_count": null,
   "metadata": {},
   "outputs": [],
   "source": [
    "nn.head()\n",
    "nn.to_csv(\"./nearestneighbours.csv\")"
   ]
  },
  {
   "cell_type": "code",
   "execution_count": null,
   "metadata": {},
   "outputs": [
    {
     "data": {
      "image/png": "[encoded data removed]",
      "text/plain": [
       "<Figure size 400x800 with 1 Axes>"
      ]
     },
     "metadata": {},
     "output_type": "display_data"
    }
   ],
   "source": [
    "sorted_nn = nn.reset_index().sort_values(by=0, ascending=False)\n",
    "fractions = np.arange(1, len(sorted_nn) + 1) / len(sorted_nn)\n",
    "\n",
    "plt.figure(figsize=(4, 8))\n",
    "plt.plot(sorted_nn[0].values, fractions, marker='', label='Matching values')\n",
    "plt.xlabel(\"Similarity\")\n",
    "plt.ylabel(\"Fraction of Subscribers\")\n",
    "plt.title(\"Nearest-Neighbor Similarity Distribution\")\n",
    "plt.legend(fontsize=10)\n",
    "plt.show()"
   ]
  },
  {
   "cell_type": "code",
   "execution_count": null,
   "metadata": {},
   "outputs": [
    {
     "data": {
      "text/plain": [
       "LSRC.stoolroutineandmicroscopy_colour           Brown\n",
       "LSRT.consistency                                 Soft\n",
       "EGLY.lymphadenopathy                     Not Palpable\n",
       "Name: 54, dtype: object"
      ]
     },
     "execution_count": 305,
     "metadata": {},
     "output_type": "execute_result"
    }
   ],
   "source": [
    "auxillary(df3, 54, 4)"
   ]
  },
  {
   "cell_type": "code",
   "execution_count": null,
   "metadata": {},
   "outputs": [
    {
     "data": {
      "text/plain": [
       "0.3333333333333333"
      ]
     },
     "execution_count": 312,
     "metadata": {},
     "output_type": "execute_result"
    }
   ],
   "source": [
    "score(df3, auxillary(df3, 54, 4), 0)"
   ]
  },
  {
   "cell_type": "code",
   "execution_count": null,
   "metadata": {},
   "outputs": [
    {
     "data": {
      "text/plain": [
       "-1    0\n",
       "dtype: int64"
      ]
     },
     "execution_count": 327,
     "metadata": {},
     "output_type": "execute_result"
    }
   ],
   "source": [
    "match(df3, auxillary(df3, 2, 10), 0.5)"
   ]
  },
  {
   "cell_type": "code",
   "execution_count": null,
   "metadata": {},
   "outputs": [
    {
     "data": {
      "text/plain": [
       "3       1.0\n",
       "199     0.5\n",
       "1587    0.5\n",
       "dtype: float64"
      ]
     },
     "execution_count": 336,
     "metadata": {},
     "output_type": "execute_result"
    }
   ],
   "source": [
    "match(df3, auxillary(df3, 3, 10), 0.5)"
   ]
  },
  {
   "cell_type": "code",
   "execution_count": null,
   "metadata": {},
   "outputs": [
    {
     "name": "stderr",
     "output_type": "stream",
     "text": [
      "100%|██████████| 200/200 [13:13<00:00,  3.97s/it]\n"
     ]
    }
   ],
   "source": [
    "results200x12 = scoreboard(df3, 12)"
   ]
  },
  {
   "cell_type": "code",
   "execution_count": null,
   "metadata": {},
   "outputs": [
    {
     "data": {
      "text/html": [
       "<div>\n",
       "<style scoped>\n",
       "    .dataframe tbody tr th:only-of-type {\n",
       "        vertical-align: middle;\n",
       "    }\n",
       "\n",
       "    .dataframe tbody tr th {\n",
       "        vertical-align: top;\n",
       "    }\n",
       "\n",
       "    .dataframe thead th {\n",
       "        text-align: right;\n",
       "    }\n",
       "</style>\n",
       "<table border=\"1\" class=\"dataframe\">\n",
       "  <thead>\n",
       "    <tr style=\"text-align: right;\">\n",
       "      <th></th>\n",
       "      <th>0</th>\n",
       "      <th>1</th>\n",
       "      <th>2</th>\n",
       "      <th>3</th>\n",
       "      <th>4</th>\n",
       "      <th>5</th>\n",
       "      <th>6</th>\n",
       "      <th>7</th>\n",
       "      <th>8</th>\n",
       "      <th>9</th>\n",
       "      <th>...</th>\n",
       "      <th>2682</th>\n",
       "      <th>2683</th>\n",
       "      <th>2684</th>\n",
       "      <th>2685</th>\n",
       "      <th>2686</th>\n",
       "      <th>2687</th>\n",
       "      <th>2688</th>\n",
       "      <th>2689</th>\n",
       "      <th>2690</th>\n",
       "      <th>2691</th>\n",
       "    </tr>\n",
       "  </thead>\n",
       "  <tbody>\n",
       "    <tr>\n",
       "      <th>0</th>\n",
       "      <td>1.0</td>\n",
       "      <td>0.0</td>\n",
       "      <td>0.166667</td>\n",
       "      <td>0.25</td>\n",
       "      <td>0.333333</td>\n",
       "      <td>0.0</td>\n",
       "      <td>0.0</td>\n",
       "      <td>0.083333</td>\n",
       "      <td>0.0</td>\n",
       "      <td>0.0</td>\n",
       "      <td>...</td>\n",
       "      <td>NaN</td>\n",
       "      <td>NaN</td>\n",
       "      <td>NaN</td>\n",
       "      <td>NaN</td>\n",
       "      <td>NaN</td>\n",
       "      <td>NaN</td>\n",
       "      <td>NaN</td>\n",
       "      <td>NaN</td>\n",
       "      <td>NaN</td>\n",
       "      <td>NaN</td>\n",
       "    </tr>\n",
       "    <tr>\n",
       "      <th>1</th>\n",
       "      <td>0.1</td>\n",
       "      <td>1.0</td>\n",
       "      <td>0.1</td>\n",
       "      <td>0.1</td>\n",
       "      <td>0.1</td>\n",
       "      <td>0.1</td>\n",
       "      <td>0.1</td>\n",
       "      <td>0.1</td>\n",
       "      <td>0.1</td>\n",
       "      <td>0.1</td>\n",
       "      <td>...</td>\n",
       "      <td>NaN</td>\n",
       "      <td>NaN</td>\n",
       "      <td>NaN</td>\n",
       "      <td>NaN</td>\n",
       "      <td>NaN</td>\n",
       "      <td>NaN</td>\n",
       "      <td>NaN</td>\n",
       "      <td>NaN</td>\n",
       "      <td>NaN</td>\n",
       "      <td>NaN</td>\n",
       "    </tr>\n",
       "    <tr>\n",
       "      <th>2</th>\n",
       "      <td>0.166667</td>\n",
       "      <td>0.0</td>\n",
       "      <td>1.0</td>\n",
       "      <td>0.25</td>\n",
       "      <td>0.25</td>\n",
       "      <td>0.0</td>\n",
       "      <td>0.25</td>\n",
       "      <td>0.166667</td>\n",
       "      <td>0.0</td>\n",
       "      <td>0.083333</td>\n",
       "      <td>...</td>\n",
       "      <td>NaN</td>\n",
       "      <td>NaN</td>\n",
       "      <td>NaN</td>\n",
       "      <td>NaN</td>\n",
       "      <td>NaN</td>\n",
       "      <td>NaN</td>\n",
       "      <td>NaN</td>\n",
       "      <td>NaN</td>\n",
       "      <td>NaN</td>\n",
       "      <td>NaN</td>\n",
       "    </tr>\n",
       "    <tr>\n",
       "      <th>3</th>\n",
       "      <td>0.166667</td>\n",
       "      <td>0.0</td>\n",
       "      <td>0.5</td>\n",
       "      <td>1.0</td>\n",
       "      <td>0.166667</td>\n",
       "      <td>0.0</td>\n",
       "      <td>0.083333</td>\n",
       "      <td>0.083333</td>\n",
       "      <td>0.0</td>\n",
       "      <td>0.083333</td>\n",
       "      <td>...</td>\n",
       "      <td>NaN</td>\n",
       "      <td>NaN</td>\n",
       "      <td>NaN</td>\n",
       "      <td>NaN</td>\n",
       "      <td>NaN</td>\n",
       "      <td>NaN</td>\n",
       "      <td>NaN</td>\n",
       "      <td>NaN</td>\n",
       "      <td>NaN</td>\n",
       "      <td>NaN</td>\n",
       "    </tr>\n",
       "    <tr>\n",
       "      <th>4</th>\n",
       "      <td>0.333333</td>\n",
       "      <td>0.0</td>\n",
       "      <td>0.333333</td>\n",
       "      <td>0.166667</td>\n",
       "      <td>1.0</td>\n",
       "      <td>0.0</td>\n",
       "      <td>0.166667</td>\n",
       "      <td>0.166667</td>\n",
       "      <td>0.0</td>\n",
       "      <td>0.166667</td>\n",
       "      <td>...</td>\n",
       "      <td>NaN</td>\n",
       "      <td>NaN</td>\n",
       "      <td>NaN</td>\n",
       "      <td>NaN</td>\n",
       "      <td>NaN</td>\n",
       "      <td>NaN</td>\n",
       "      <td>NaN</td>\n",
       "      <td>NaN</td>\n",
       "      <td>NaN</td>\n",
       "      <td>NaN</td>\n",
       "    </tr>\n",
       "    <tr>\n",
       "      <th>...</th>\n",
       "      <td>...</td>\n",
       "      <td>...</td>\n",
       "      <td>...</td>\n",
       "      <td>...</td>\n",
       "      <td>...</td>\n",
       "      <td>...</td>\n",
       "      <td>...</td>\n",
       "      <td>...</td>\n",
       "      <td>...</td>\n",
       "      <td>...</td>\n",
       "      <td>...</td>\n",
       "      <td>...</td>\n",
       "      <td>...</td>\n",
       "      <td>...</td>\n",
       "      <td>...</td>\n",
       "      <td>...</td>\n",
       "      <td>...</td>\n",
       "      <td>...</td>\n",
       "      <td>...</td>\n",
       "      <td>...</td>\n",
       "      <td>...</td>\n",
       "    </tr>\n",
       "    <tr>\n",
       "      <th>95</th>\n",
       "      <td>0.0</td>\n",
       "      <td>0.0</td>\n",
       "      <td>0.166667</td>\n",
       "      <td>0.0</td>\n",
       "      <td>0.25</td>\n",
       "      <td>0.0</td>\n",
       "      <td>0.166667</td>\n",
       "      <td>0.0</td>\n",
       "      <td>0.0</td>\n",
       "      <td>0.166667</td>\n",
       "      <td>...</td>\n",
       "      <td>NaN</td>\n",
       "      <td>NaN</td>\n",
       "      <td>NaN</td>\n",
       "      <td>NaN</td>\n",
       "      <td>NaN</td>\n",
       "      <td>NaN</td>\n",
       "      <td>NaN</td>\n",
       "      <td>NaN</td>\n",
       "      <td>NaN</td>\n",
       "      <td>NaN</td>\n",
       "    </tr>\n",
       "    <tr>\n",
       "      <th>96</th>\n",
       "      <td>0.083333</td>\n",
       "      <td>0.083333</td>\n",
       "      <td>0.083333</td>\n",
       "      <td>0.083333</td>\n",
       "      <td>0.083333</td>\n",
       "      <td>0.083333</td>\n",
       "      <td>0.083333</td>\n",
       "      <td>0.083333</td>\n",
       "      <td>0.083333</td>\n",
       "      <td>0.083333</td>\n",
       "      <td>...</td>\n",
       "      <td>NaN</td>\n",
       "      <td>NaN</td>\n",
       "      <td>NaN</td>\n",
       "      <td>NaN</td>\n",
       "      <td>NaN</td>\n",
       "      <td>NaN</td>\n",
       "      <td>NaN</td>\n",
       "      <td>NaN</td>\n",
       "      <td>NaN</td>\n",
       "      <td>NaN</td>\n",
       "    </tr>\n",
       "    <tr>\n",
       "      <th>97</th>\n",
       "      <td>0.0</td>\n",
       "      <td>0.0</td>\n",
       "      <td>0.25</td>\n",
       "      <td>0.083333</td>\n",
       "      <td>0.083333</td>\n",
       "      <td>0.083333</td>\n",
       "      <td>0.416667</td>\n",
       "      <td>0.166667</td>\n",
       "      <td>0.0</td>\n",
       "      <td>0.166667</td>\n",
       "      <td>...</td>\n",
       "      <td>NaN</td>\n",
       "      <td>NaN</td>\n",
       "      <td>NaN</td>\n",
       "      <td>NaN</td>\n",
       "      <td>NaN</td>\n",
       "      <td>NaN</td>\n",
       "      <td>NaN</td>\n",
       "      <td>NaN</td>\n",
       "      <td>NaN</td>\n",
       "      <td>NaN</td>\n",
       "    </tr>\n",
       "    <tr>\n",
       "      <th>98</th>\n",
       "      <td>0.0</td>\n",
       "      <td>0.0</td>\n",
       "      <td>0.0</td>\n",
       "      <td>0.0</td>\n",
       "      <td>0.0</td>\n",
       "      <td>0.166667</td>\n",
       "      <td>0.0</td>\n",
       "      <td>0.0</td>\n",
       "      <td>0.0</td>\n",
       "      <td>0.083333</td>\n",
       "      <td>...</td>\n",
       "      <td>NaN</td>\n",
       "      <td>NaN</td>\n",
       "      <td>NaN</td>\n",
       "      <td>NaN</td>\n",
       "      <td>NaN</td>\n",
       "      <td>NaN</td>\n",
       "      <td>NaN</td>\n",
       "      <td>NaN</td>\n",
       "      <td>NaN</td>\n",
       "      <td>NaN</td>\n",
       "    </tr>\n",
       "    <tr>\n",
       "      <th>99</th>\n",
       "      <td>0.0</td>\n",
       "      <td>0.0</td>\n",
       "      <td>0.083333</td>\n",
       "      <td>0.083333</td>\n",
       "      <td>0.0</td>\n",
       "      <td>0.0</td>\n",
       "      <td>0.0</td>\n",
       "      <td>0.0</td>\n",
       "      <td>0.0</td>\n",
       "      <td>0.0</td>\n",
       "      <td>...</td>\n",
       "      <td>NaN</td>\n",
       "      <td>NaN</td>\n",
       "      <td>NaN</td>\n",
       "      <td>NaN</td>\n",
       "      <td>NaN</td>\n",
       "      <td>NaN</td>\n",
       "      <td>NaN</td>\n",
       "      <td>NaN</td>\n",
       "      <td>NaN</td>\n",
       "      <td>NaN</td>\n",
       "    </tr>\n",
       "  </tbody>\n",
       "</table>\n",
       "<p>100 rows × 2692 columns</p>\n",
       "</div>"
      ],
      "text/plain": [
       "        0         1         2         3         4         5         6     \\\n",
       "0        1.0       0.0  0.166667      0.25  0.333333       0.0       0.0   \n",
       "1        0.1       1.0       0.1       0.1       0.1       0.1       0.1   \n",
       "2   0.166667       0.0       1.0      0.25      0.25       0.0      0.25   \n",
       "3   0.166667       0.0       0.5       1.0  0.166667       0.0  0.083333   \n",
       "4   0.333333       0.0  0.333333  0.166667       1.0       0.0  0.166667   \n",
       "..       ...       ...       ...       ...       ...       ...       ...   \n",
       "95       0.0       0.0  0.166667       0.0      0.25       0.0  0.166667   \n",
       "96  0.083333  0.083333  0.083333  0.083333  0.083333  0.083333  0.083333   \n",
       "97       0.0       0.0      0.25  0.083333  0.083333  0.083333  0.416667   \n",
       "98       0.0       0.0       0.0       0.0       0.0  0.166667       0.0   \n",
       "99       0.0       0.0  0.083333  0.083333       0.0       0.0       0.0   \n",
       "\n",
       "        7         8         9     ... 2682 2683 2684 2685 2686 2687 2688 2689  \\\n",
       "0   0.083333       0.0       0.0  ...  NaN  NaN  NaN  NaN  NaN  NaN  NaN  NaN   \n",
       "1        0.1       0.1       0.1  ...  NaN  NaN  NaN  NaN  NaN  NaN  NaN  NaN   \n",
       "2   0.166667       0.0  0.083333  ...  NaN  NaN  NaN  NaN  NaN  NaN  NaN  NaN   \n",
       "3   0.083333       0.0  0.083333  ...  NaN  NaN  NaN  NaN  NaN  NaN  NaN  NaN   \n",
       "4   0.166667       0.0  0.166667  ...  NaN  NaN  NaN  NaN  NaN  NaN  NaN  NaN   \n",
       "..       ...       ...       ...  ...  ...  ...  ...  ...  ...  ...  ...  ...   \n",
       "95       0.0       0.0  0.166667  ...  NaN  NaN  NaN  NaN  NaN  NaN  NaN  NaN   \n",
       "96  0.083333  0.083333  0.083333  ...  NaN  NaN  NaN  NaN  NaN  NaN  NaN  NaN   \n",
       "97  0.166667       0.0  0.166667  ...  NaN  NaN  NaN  NaN  NaN  NaN  NaN  NaN   \n",
       "98       0.0       0.0  0.083333  ...  NaN  NaN  NaN  NaN  NaN  NaN  NaN  NaN   \n",
       "99       0.0       0.0       0.0  ...  NaN  NaN  NaN  NaN  NaN  NaN  NaN  NaN   \n",
       "\n",
       "   2690 2691  \n",
       "0   NaN  NaN  \n",
       "1   NaN  NaN  \n",
       "2   NaN  NaN  \n",
       "3   NaN  NaN  \n",
       "4   NaN  NaN  \n",
       "..  ...  ...  \n",
       "95  NaN  NaN  \n",
       "96  NaN  NaN  \n",
       "97  NaN  NaN  \n",
       "98  NaN  NaN  \n",
       "99  NaN  NaN  \n",
       "\n",
       "[100 rows x 2692 columns]"
      ]
     },
     "execution_count": 388,
     "metadata": {},
     "output_type": "execute_result"
    }
   ],
   "source": [
    "results200x12.to_csv(\"./resultscount12.csv\")\n",
    "results200x12.loc[:199, :199]"
   ]
  },
  {
   "cell_type": "code",
   "execution_count": null,
   "metadata": {},
   "outputs": [
    {
     "data": {
      "text/plain": [
       "<Axes: >"
      ]
     },
     "execution_count": 394,
     "metadata": {},
     "output_type": "execute_result"
    },
    {
     "data": {
      "image/png": "[encoded data removed]",
      "text/plain": [
       "<Figure size 640x480 with 2 Axes>"
      ]
     },
     "metadata": {},
     "output_type": "display_data"
    }
   ],
   "source": [
    "sns.heatmap(results200x12.iloc[:200, :200].astype(float), annot=False, cmap=\"YlGnBu\", linewidths=0) # count=12, alpha=0.5"
   ]
  },
  {
   "cell_type": "code",
   "execution_count": null,
   "metadata": {},
   "outputs": [
    {
     "data": {
      "text/plain": [
       "<Axes: >"
      ]
     },
     "execution_count": 397,
     "metadata": {},
     "output_type": "execute_result"
    },
    {
     "data": {
      "image/png": "[encoded data removed]",
      "text/plain": [
       "<Figure size 640x480 with 2 Axes>"
      ]
     },
     "metadata": {},
     "output_type": "display_data"
    }
   ],
   "source": [
    "# same heatmap as above but with only two colours, showing value >= 0.5 or not\n",
    "sns.heatmap(results200x12.iloc[:200, :200].astype(float) >= 0.5, annot=False, cmap=\"YlGnBu\", linewidths=0) # count=12, alpha=0.5"
   ]
  },
  {
   "cell_type": "code",
   "execution_count": null,
   "metadata": {},
   "outputs": [
    {
     "data": {
      "text/plain": [
       "<Axes: >"
      ]
     },
     "execution_count": 398,
     "metadata": {},
     "output_type": "execute_result"
    },
    {
     "data": {
      "image/png": "[encoded data removed]",
      "text/plain": [
       "<Figure size 640x480 with 2 Axes>"
      ]
     },
     "metadata": {},
     "output_type": "display_data"
    }
   ],
   "source": [
    "sns.heatmap(results200x12.iloc[:200, :200].astype(float) >= 0.75, annot=False, cmap=\"YlGnBu\", linewidths=0) # count=12, alpha=0.75"
   ]
  },
  {
   "cell_type": "code",
   "execution_count": null,
   "metadata": {},
   "outputs": [
    {
     "name": "stderr",
     "output_type": "stream",
     "text": [
      "100%|██████████| 200/200 [01:31<00:00,  2.18it/s]\n"
     ]
    }
   ],
   "source": [
    "cop = results200x12.copy()\n",
    "results2 = cop.progress_apply(lambda col: col.index.to_series().apply(lambda row_idx: union_support_count(df3, row_idx, col.name)))"
   ]
  },
  {
   "cell_type": "code",
   "execution_count": null,
   "metadata": {},
   "outputs": [],
   "source": [
    "results2.to_csv(\"./results2.csv\")\n",
    "results2.iloc[:200, :200]"
   ]
  },
  {
   "cell_type": "code",
   "execution_count": null,
   "metadata": {},
   "outputs": [
    {
     "data": {
      "text/plain": [
       "<Axes: >"
      ]
     },
     "execution_count": 401,
     "metadata": {},
     "output_type": "execute_result"
    },
    {
     "data": {
      "image/png": "[encoded data removed]",
      "text/plain": [
       "<Figure size 640x480 with 2 Axes>"
      ]
     },
     "metadata": {},
     "output_type": "display_data"
    }
   ],
   "source": [
    "sns.heatmap(results2.iloc[:200, :200].astype(float) >= 12, annot=False, cmap=\"YlGnBu\", linewidths=0) # count=100"
   ]
  },
  {
   "cell_type": "code",
   "execution_count": null,
   "metadata": {},
   "outputs": [],
   "source": []
  }
 ],
 "metadata": {
  "kernelspec": {
   "display_name": "Python 3",
   "language": "python",
   "name": "python3"
  },
  "language_info": {
   "codemirror_mode": {
    "name": "ipython",
    "version": 3
   },
   "file_extension": ".py",
   "mimetype": "text/x-python",
   "name": "python",
   "nbconvert_exporter": "python",
   "pygments_lexer": "ipython3",
   "version": "3.12.7"
  }
 },
 "nbformat": 4,
 "nbformat_minor": 0
}
